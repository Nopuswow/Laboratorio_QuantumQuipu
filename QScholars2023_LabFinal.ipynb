{
 "cells": [
  {
   "cell_type": "markdown",
   "id": "26a95c84-7fd5-4eac-ad87-d72a990eab2e",
   "metadata": {},
   "source": [
    "<table width=\"100%\"><tr><td style=\"color:#bbbbbb;background-color:#ffffff;font-size:11px;font-style:italic;text-align:right;\"></td></tr></table>\n",
    "$ \\newcommand{\\bra}[1]{\\langle #1|} $\n",
    "$ \\newcommand{\\ket}[1]{|#1\\rangle} $\n",
    "$ \\newcommand{\\braket}[2]{\\langle #1|#2\\rangle} $\n",
    "$ \\newcommand{\\dot}[2]{ #1 \\cdot #2} $\n",
    "$ \\newcommand{\\biginner}[2]{\\left\\langle #1,#2\\right\\rangle} $\n",
    "$ \\newcommand{\\mymatrix}[2]{\\left( \\begin{array}{#1} #2\\end{array} \\right)} $\n",
    "$ \\newcommand{\\myvector}[1]{\\mymatrix{c}{#1}} $\n",
    "$ \\newcommand{\\myrvector}[1]{\\mymatrix{r}{#1}} $\n",
    "$ \\newcommand{\\mypar}[1]{\\left( #1 \\right)} $\n",
    "$ \\newcommand{\\mybigpar}[1]{ \\Big( #1 \\Big)} $\n",
    "$ \\newcommand{\\sqrttwo}{\\frac{1}{\\sqrt{2}}} $\n",
    "$ \\newcommand{\\dsqrttwo}{\\dfrac{1}{\\sqrt{2}}} $\n",
    "$ \\newcommand{\\onehalf}{\\frac{1}{2}} $\n",
    "$ \\newcommand{\\donehalf}{\\dfrac{1}{2}} $\n",
    "$ \\newcommand{\\hadamard}{ \\mymatrix{rr}{ \\sqrttwo & \\sqrttwo \\\\ \\sqrttwo & -\\sqrttwo }} $\n",
    "$ \\newcommand{\\vzero}{\\myvector{1\\\\0}} $\n",
    "$ \\newcommand{\\vone}{\\myvector{0\\\\1}} $\n",
    "$ \\newcommand{\\stateplus}{\\myvector{ \\sqrttwo \\\\  \\sqrttwo } } $\n",
    "$ \\newcommand{\\stateminus}{ \\myrvector{ \\sqrttwo \\\\ -\\sqrttwo } } $\n",
    "$ \\newcommand{\\myarray}[2]{ \\begin{array}{#1}#2\\end{array}} $\n",
    "$ \\newcommand{\\X}{ \\mymatrix{cc}{0 & 1 \\\\ 1 & 0}  } $\n",
    "$ \\newcommand{\\Z}{ \\mymatrix{rr}{1 & 0 \\\\ 0 & -1}  } $\n",
    "$ \\newcommand{\\Htwo}{ \\mymatrix{rrrr}{ \\frac{1}{2} & \\frac{1}{2} & \\frac{1}{2} & \\frac{1}{2} \\\\ \\frac{1}{2} & -\\frac{1}{2} & \\frac{1}{2} & -\\frac{1}{2} \\\\ \\frac{1}{2} & \\frac{1}{2} & -\\frac{1}{2} & -\\frac{1}{2} \\\\ \\frac{1}{2} & -\\frac{1}{2} & -\\frac{1}{2} & \\frac{1}{2} } } $\n",
    "$ \\newcommand{\\CNOT}{ \\mymatrix{cccc}{1 & 0 & 0 & 0 \\\\ 0 & 1 & 0 & 0 \\\\ 0 & 0 & 0 & 1 \\\\ 0 & 0 & 1 & 0} } $\n",
    "$ \\newcommand{\\norm}[1]{ \\left\\lVert #1 \\right\\rVert } $\n",
    "$ \\newcommand{\\pstate}[1]{ \\lceil \\mspace{-1mu} #1 \\mspace{-1.5mu} \\rfloor } $\n",
    "\n",
    "<center>\n",
    "<img src=\"https://media.discordapp.net/attachments/1126231743641428109/1138188172694650941/image.png?width=960&height=473\">"
   ]
  },
  {
   "cell_type": "markdown",
   "id": "482aa5db-992f-42db-8466-c3c5f4060ef7",
   "metadata": {},
   "source": [
    "    \n",
    "## <center> QUANTUM SCHOLARS 2023\n",
    "\n",
    "\n",
    "Autores: [Ricardo Quispe M.](https://github.com/RcrdPhysics).\\, Tony Milla y Gustavo Valdivia\n",
    "Institución: QuantumQuipu, Universidad Nacional Mayor de San Marcos\\\n",
    "Correo: ricardo.quispe5@unmsm.edu.pe, tony.milla@unmsm.edu.pe, gvaldiviamera@uh.edu\n",
    "    \n",
    "Este material está sujeto a los términos y condiciones de la licencia [Creative Commons CC BY-NC-SA 4.0](https://creativecommons.org/licenses/by-nc-sa/4.0/). Se permite el uso gratuito para cualquier propósito no comercial.\n",
    "\n",
    "*También puede consultar la última versión de este notebook en nuestro [repositorio](https://github.com/QuantumQuipu/QuantumScholars2023) y los videos de clase [en nuestro canal de Youtube](https://www.youtube.com/@quantumquipu-unmsm1091/streams).*\n",
    "    "
   ]
  },
  {
   "cell_type": "markdown",
   "id": "2398c92e-3b37-472d-9c60-fb98204efa25",
   "metadata": {},
   "source": [
    "Indicaciones:\n",
    "\n",
    "1.- Este notebook deberá ser enviado a través del siguiente formulario: https://forms.gle/LRtmmhvZZ85Cuq5t9\n",
    "\n",
    "2.- Fecha de entrega miércoles 16 de Agosto a las 18Hrs GMT-5\n",
    "\n",
    "3.- Deberá adjuntar toda su solución en un solo notebook. (Ya sea cálculos a mano en formato imagen, o visualizaciones externas)\n",
    "\n",
    "4.- Los problemas extra pueden reemplazar a cualquier problema dentro de la misma clase.\n",
    "\n"
   ]
  },
  {
   "cell_type": "markdown",
   "id": "e3ce216c",
   "metadata": {},
   "source": [
    "## Alumno: Josué Raziel Huerta Ruiz\n",
    "### Universidad Nacional Autónoma de México (UNAM), Facultad de Ciencias.\n",
    "### País: México"
   ]
  },
  {
   "cell_type": "markdown",
   "id": "a62492b4-4d9b-428f-9bec-8d5ad52004c3",
   "metadata": {},
   "source": [
    "## Clase 1-2:"
   ]
  },
  {
   "cell_type": "markdown",
   "id": "138e858b-69b2-4ba2-ac77-cf1410830d45",
   "metadata": {},
   "source": [
    "1.- ¿Cuál es el vector de estado de un sistema compuesto por 3 qubits , estando los qubits individuales(e independientes) en los estados  $|+\\rangle $ , $|+\\rangle $,$| -\\rangle $,? Luego hacer las mediciones parciales para el qubit central, repetir lo mismo con qiskit.\n",
    "\n",
    "2.- ¿Cuántos qubits independientes tiene como mínimo el siguiente sistema?\n",
    "\n",
    "<center>\n",
    "<img src=\"https://raw.githubusercontent.com/tonymilla/QuantumScholars2023/main/imagenes/examen/q_spherequestion.png\">\n",
    "\n",
    "3.- ¿Cómo se escribiría en notación de Dirac una compuerta CU3 desarrollalo e implementalo en qiskit para $\\theta = \\pi$, $\\phi = \\frac{\\pi}{2}$ y $\\lambda = \\frac{7\\pi}{2}$ "
   ]
  },
  {
   "cell_type": "markdown",
   "id": "e32c109a",
   "metadata": {},
   "source": [
    "### Solución: "
   ]
  },
  {
   "cell_type": "markdown",
   "id": "bf48f457",
   "metadata": {},
   "source": [
    "1.- Recordemos que de los estados $|+\\rangle$ y $|-\\rangle$ se pueden obtener de los estados base (Z) $|0\\rangle$ y $|1\\rangle$ a partir del operador Hadamard ($H$) de la siguiente forma:\n",
    "$$ H |0\\rangle = \\frac{1}{\\sqrt{2}}  (|0\\rangle + |1\\rangle):= |+\\rangle \\phantom{....} \\textrm{y} \\phantom{....} H |1\\rangle = \\frac{1}{\\sqrt{2}}  (|0\\rangle - |1\\rangle):= |-\\rangle $$\n",
    "Finalmente para representar el estado final debemos realizar el producto tensorial entre los qubits independeintes\n",
    "$|\\psi \\rangle = |+ \\rangle \\otimes |+ \\rangle \\otimes |- \\rangle  $ (ocuparemos el orden de Qiskit):\n",
    "\n",
    "$$ |\\psi \\rangle = \\frac{1}{\\sqrt{2}}  (|0\\rangle + |1\\rangle) \\otimes \\frac{1}{\\sqrt{2}}  (|0\\rangle + |1\\rangle) \\otimes \\frac{1}{\\sqrt{2}}  (|0\\rangle - |1\\rangle)$$\n",
    "$$ =\\frac{1}{\\sqrt{2}}  (|0\\rangle + |1\\rangle) \\otimes \\frac{1}{2}  (|00\\rangle - |01\\rangle+ |10\\rangle - |11\\rangle) $$\n",
    "$$ =\\frac{\\sqrt{2}}{4}  (|000\\rangle - |001\\rangle+ |010\\rangle - |011\\rangle + |100\\rangle - |101\\rangle + |110\\rangle - |111\\rangle)$$\n",
    "Finalmente para medir la probabilidad de los estados en los que puede estar qubit 1, al ser independiente, depende del módulo al cuadrado de sus amplitudes:\n",
    "$$|q_1 \\rangle = \\frac{1}{\\sqrt{2}}  (|0\\rangle + |1\\rangle) \\Longrightarrow P_1(|0\\rangle)= \\left| \\frac{1}{\\sqrt{2}} \\right|^2 = \\frac{1}{2}=0.5 \\phantom{....} \\textrm{y} \\phantom{....} P_1(|1\\rangle)= \\left| \\frac{1}{\\sqrt{2}} \\right|^2 = \\frac{1}{2}=0.5 $$\n",
    "\n",
    "Obtengamos los resultados a partir de Qiskit (visualization):"
   ]
  },
  {
   "cell_type": "code",
   "execution_count": 1,
   "id": "ea435e71",
   "metadata": {},
   "outputs": [
    {
     "name": "stdout",
     "output_type": "stream",
     "text": [
      "El vector de estado es: \n"
     ]
    },
    {
     "data": {
      "text/latex": [
       "$$\\frac{\\sqrt{2}}{4} |000\\rangle- \\frac{\\sqrt{2}}{4} |001\\rangle+\\frac{\\sqrt{2}}{4} |010\\rangle- \\frac{\\sqrt{2}}{4} |011\\rangle+\\frac{\\sqrt{2}}{4} |100\\rangle- \\frac{\\sqrt{2}}{4} |101\\rangle+\\frac{\\sqrt{2}}{4} |110\\rangle- \\frac{\\sqrt{2}}{4} |111\\rangle$$"
      ],
      "text/plain": [
       "<IPython.core.display.Latex object>"
      ]
     },
     "execution_count": 1,
     "metadata": {},
     "output_type": "execute_result"
    }
   ],
   "source": [
    "from qiskit.visualization import array_to_latex\n",
    "from qiskit.quantum_info import Statevector \n",
    "import numpy as np\n",
    "from qiskit.quantum_info.operators import Operator\n",
    "#Creamos los estados individuales\n",
    "op_ket0=Operator([[1/2**(0.5)],[-1/2**(0.5)]]) #|->\n",
    "op_ket1=Operator([[1/2**(0.5)],[1/2**(0.5)]])  #|+>\n",
    "op_ket2=Operator([[1/2**(0.5)],[1/2**(0.5)]])  #|+>\n",
    "#Aplicamos el producto tensorial\n",
    "state_vector=op_ket2.tensor(op_ket1.tensor(op_ket0))\n",
    "#Lo mandamos a imprimir en latex\n",
    "print(\"El vector de estado es: \")\n",
    "ket_psi = Statevector(state_vector)\n",
    "ket_psi.draw('latex')"
   ]
  },
  {
   "cell_type": "code",
   "execution_count": 2,
   "id": "9731959d",
   "metadata": {},
   "outputs": [
    {
     "name": "stdout",
     "output_type": "stream",
     "text": [
      "Las probabilidades del estado del qubit 1 al medirlo son: \n",
      "probs: {'0': 0.4999999999999998, '1': 0.4999999999999998}\n"
     ]
    }
   ],
   "source": [
    "print(\"Las probabilidades del estado del qubit 1 al medirlo son: \")\n",
    "probs_ket1 = ket_psi.probabilities_dict([1])\n",
    "print('probs: {}'.format(probs_ket1))"
   ]
  },
  {
   "cell_type": "markdown",
   "id": "68c4e1ca",
   "metadata": {},
   "source": [
    "Finalmente realicemos el circuito correspondiente para obtener estos resultados"
   ]
  },
  {
   "cell_type": "code",
   "execution_count": 3,
   "id": "1de17a86",
   "metadata": {},
   "outputs": [
    {
     "data": {
      "text/latex": [
       "$$\\frac{\\sqrt{2}}{4} |000\\rangle- \\frac{\\sqrt{2}}{4} |001\\rangle+\\frac{\\sqrt{2}}{4} |010\\rangle- \\frac{\\sqrt{2}}{4} |011\\rangle+\\frac{\\sqrt{2}}{4} |100\\rangle- \\frac{\\sqrt{2}}{4} |101\\rangle+\\frac{\\sqrt{2}}{4} |110\\rangle- \\frac{\\sqrt{2}}{4} |111\\rangle$$"
      ],
      "text/plain": [
       "<IPython.core.display.Latex object>"
      ]
     },
     "execution_count": 3,
     "metadata": {},
     "output_type": "execute_result"
    }
   ],
   "source": [
    "from qiskit import QuantumCircuit\n",
    "#Inicializamos\n",
    "qc = QuantumCircuit(3,1)\n",
    "qc.initialize(Statevector.from_label(\"-\"), 0) #|-> (O bien, qc.x(0) y posteriormente qc.h(0))\n",
    "qc.initialize(Statevector.from_label(\"+\"), 1) #|+> (O bien, qc.h(1))\n",
    "qc.initialize(Statevector.from_label(\"+\"), 2) #|+> (O bien, qc.h(2))\n",
    "#Inicializamos el vector-estado (Me basé en la documentación)\n",
    "state_vector = Statevector.from_int(0, 2**3)\n",
    "state_vector = state_vector.evolve(qc)\n",
    "state_vector.draw('latex')"
   ]
  },
  {
   "cell_type": "code",
   "execution_count": 4,
   "id": "ce602978",
   "metadata": {},
   "outputs": [
    {
     "name": "stdout",
     "output_type": "stream",
     "text": [
      "probs: {'0': 0.4999999999999999, '1': 0.4999999999999999}\n"
     ]
    }
   ],
   "source": [
    "#Incluimos las probabilidades del qubit 1:\n",
    "probs_qubit1 = state_vector.probabilities_dict([1])\n",
    "print('probs: {}'.format(probs_qubit1))"
   ]
  },
  {
   "cell_type": "markdown",
   "id": "48cf4fd1",
   "metadata": {},
   "source": [
    "2.- Recordemos que la q-esfera se interpretra de la siguiente manera: En el polo norte tenemos el elemento de la base con puros 0's y en el polo sur el elemento de la base con puros 1's. Finalmente las latitudes representan los elementos de la base según el número de 1's, en orden ascendente, de norte a sur. \n",
    "<img src=\"https://raw.githubusercontent.com/tonymilla/QuantumScholars2023/main/imagenes/examen/q_spherequestion.png\">\n",
    "\n",
    "En el caso de la imagen, podemos inferir el vector de estado está conformado por 2 elementos de la base, uno con tres 0's y un 1, y el otro con tres 1's y un 0. Finalmente, al ser antípodas, significa que los estados son contrarios, es decir, que para el primer estado, este tiene 3 qubits en 1's mientras su antípoda tiene esos mismos qubits en estado 0's. Esto nos indica que existe un enredamiento cuántico entre los 4 qubits, y dado que sólo hay 2 posibles estados, entonces sólo hay un qubit independiente (pues al medir 1, podemos determinar el estado de los restantes). \n",
    "\n",
    "Podemos replicar este vector de estado mostrado en la figura a partir del siguiente circuito: "
   ]
  },
  {
   "cell_type": "code",
   "execution_count": 5,
   "id": "337e8b3f",
   "metadata": {},
   "outputs": [
    {
     "data": {
      "image/png": "[encoded data removed]",
      "text/plain": [
       "<Figure size 705.552x367.889 with 1 Axes>"
      ]
     },
     "execution_count": 5,
     "metadata": {},
     "output_type": "execute_result"
    }
   ],
   "source": [
    "from qiskit.visualization import plot_state_qsphere\n",
    "qc1=QuantumCircuit(4)\n",
    "qc1.h(0) #Superposición del primer qubit\n",
    "qc1.barrier() \n",
    "for i in range(3): qc1.cx(0,i+1) #Enredamiento\n",
    "qc1.barrier()\n",
    "qc1.x(1) #\"Volteamos\" uno de los qubits para poder tener sólo 3 idénticos  \n",
    "qc1.draw(\"mpl\")"
   ]
  },
  {
   "cell_type": "code",
   "execution_count": 6,
   "id": "8c1b1262",
   "metadata": {},
   "outputs": [
    {
     "data": {
      "image/png": "[encoded data removed]",
      "text/plain": [
       "<Figure size 700x700 with 2 Axes>"
      ]
     },
     "execution_count": 6,
     "metadata": {},
     "output_type": "execute_result"
    }
   ],
   "source": [
    "plot_state_qsphere(qc1)"
   ]
  },
  {
   "cell_type": "markdown",
   "id": "8e0f7242",
   "metadata": {},
   "source": [
    "3.- Recordemos que la compuerta U3 se escribe de manera matricial como:\n",
    "$$ U3(\\theta, \\phi, \\lambda) =  \\begin{pmatrix} \\cos(\\frac{\\theta}{2})  & - e^{i\\lambda}\\sin(\\frac{\\theta}{2})\\\\\n",
    " e^{i\\phi}\\sin(\\frac{\\theta}{2})  &  e^{i(\\phi + \\lambda)}\\cos(\\frac{\\theta}{2})\n",
    "\\end{pmatrix} $$\n",
    "Además rercordemos los proyectores:\n",
    "$$ P_{i,j}= |\\psi_i\\rangle \\langle \\psi_j|=\\begin{pmatrix} 0  & \\dotsb & 0 & 0 & 0 & \\dotsb & 0 \\\\\n",
    "\\vdots  & \\ddots & \\vdots & \\vdots & \\vdots & \\ddots & \\vdots \\\\\n",
    "0  & \\dotsb & 0 & 0 & 0 & \\dotsb & 0 \\\\\n",
    "0  & \\dotsb & 0 & p_{i,j}=1 & 0 & \\dotsb & 0 \\\\\n",
    "0  & \\dotsb & 0 & 0 & 0 & \\dotsb & 0 \\\\\n",
    "\\vdots  & \\ddots & \\vdots & \\vdots & \\vdots & \\ddots & \\vdots \\\\\n",
    "0  & \\dotsb & 0 & 0 & 0 & \\dotsb & 0 \\\\ \\end{pmatrix}$$\n",
    "\n",
    "Donde $\\{|\\psi_i\\rangle\\}$ es una base ortonormal del espacio de Hilbert. Así, es fácil descomponer $U3$ de la siguiente manera:\n",
    "$$ U3(\\theta, \\phi, \\lambda) = \\cos(\\frac{\\theta}{2}) \\begin{pmatrix} 1 & 0 \\\\ 0 & 0 \\end{pmatrix} - e^{i\\lambda}\\sin(\\frac{\\theta}{2}) \\begin{pmatrix} 0 & 1 \\\\ 0 & 0 \\end{pmatrix}  + e^{i\\phi}\\sin(\\frac{\\theta}{2}) \\begin{pmatrix} 0 & 0 \\\\ 1 & 0 \\end{pmatrix} + e^{i(\\phi + \\lambda)}\\cos(\\frac{\\theta}{2}) \\begin{pmatrix} 0 & 0 \\\\ 0 & 1 \\end{pmatrix}  $$\n",
    "$$ \\therefore U3(\\theta, \\phi, \\lambda)= \\cos(\\frac{\\theta}{2}) |0\\rangle \\langle0| - e^{i\\lambda}\\sin(\\frac{\\theta}{2}) |0\\rangle \\langle1|  + e^{i\\phi}\\sin(\\frac{\\theta}{2}) |1\\rangle \\langle0| + e^{i(\\phi + \\lambda)}\\cos(\\frac{\\theta}{2}) |1\\rangle \\langle1|  $$\n",
    "\n",
    "Finalmente, para poder implemenar $CU3$, consideramos el caso en el que $q_1$ es el control y $q_0$ es el target (Orden de Qiskit), donde recordemos que para que $U3$ sea aplicado sobre $q_0$, $q_1$ debe estar en $|1\\rangle$, así $ CU3_{1,0}(\\theta, \\phi, \\lambda)= |0\\rangle \\langle0| \\otimes I + |1\\rangle \\langle1| \\otimes U3(\\theta, \\phi, \\lambda)$, que reescribiendo en notación de Dirac es:\n",
    "\n",
    "\n",
    "$$CU3_{1,0}(\\theta, \\phi, \\lambda) = |0\\rangle \\langle0| \\otimes (|0\\rangle \\langle0|+|1\\rangle \\langle1|) + |1\\rangle \\langle1| \\otimes ( \\cos(\\frac{\\theta}{2}) |0\\rangle \\langle0| - e^{i\\lambda}\\sin(\\frac{\\theta}{2}) |0\\rangle \\langle1|  + e^{i\\phi}\\sin(\\frac{\\theta}{2}) |1\\rangle \\langle0| + e^{i(\\phi + \\lambda)}\\cos(\\frac{\\theta}{2}) |1\\rangle \\langle1|)  $$\n",
    "$$ = |00\\rangle \\langle00|+|01\\rangle \\langle01| + \\cos(\\frac{\\theta}{2}) |10\\rangle \\langle10| - e^{i\\lambda}\\sin(\\frac{\\theta}{2}) |10\\rangle \\langle11|  + e^{i\\phi}\\sin(\\frac{\\theta}{2}) |11\\rangle \\langle10| + e^{i(\\phi + \\lambda)}\\cos(\\frac{\\theta}{2}) |11\\rangle \\langle11| $$\n",
    "\n",
    "Así, la matriz correspondiente es:\n",
    "\n",
    "$$ \\begin{pmatrix} 1 & 0 & 0 & 0 \\\\ 0 & 1 & 0 & 0 \\\\ 0 & 0 & \\cos(\\frac{\\theta}{2})  & - e^{i\\lambda}\\sin(\\frac{\\theta}{2})\\\\\n",
    " 0 & 0 & e^{i\\phi}\\sin(\\frac{\\theta}{2})  &  e^{i(\\phi + \\lambda)}\\cos(\\frac{\\theta}{2})  \\end{pmatrix} $$\n",
    " \n",
    "Análogamente para el caso $CU3_{0,1}(\\theta, \\phi, \\lambda)$, tenemos que:\n",
    "$$ CU3_{0,1}(\\theta, \\phi, \\lambda) = |00\\rangle \\langle00|+|10\\rangle \\langle10| + \\cos(\\frac{\\theta}{2}) |01\\rangle \\langle01| - e^{i\\lambda}\\sin(\\frac{\\theta}{2}) |01\\rangle \\langle11|  + e^{i\\phi}\\sin(\\frac{\\theta}{2}) |11\\rangle \\langle01| + e^{i(\\phi + \\lambda)}\\cos(\\frac{\\theta}{2}) |11\\rangle \\langle11| $$\n",
    "\n",
    "Así, la matriz correspondiente es:\n",
    "\n",
    "$$ \\begin{pmatrix} 1 & 0 & 0 & 0 \\\\ 0 & \\cos(\\frac{\\theta}{2}) & 0  & - e^{i\\lambda}\\sin(\\frac{\\theta}{2})\\\\  0 & 0 & 1 & 0 \\\\\n",
    " 0 & e^{i\\phi}\\sin(\\frac{\\theta}{2}) & 0  &  e^{i(\\phi + \\lambda)}\\cos(\\frac{\\theta}{2})  \\end{pmatrix} $$\n",
    "\n",
    "Para el caso $\\theta = \\pi$, $\\phi = \\frac{\\pi}{2}$ y $\\lambda = \\frac{7\\pi}{2}$ , tenemos las siguientes matrices:\n",
    "$$ CU3_{1,0}(\\pi, \\frac{\\pi}{2}, \\frac{7\\pi}{2}) = \\begin{pmatrix} 1 & 0 & 0 & 0 \\\\ 0 & 1 & 0 & 0 \\\\ 0 & 0 & 0  &i\\\\\n",
    " 0 & 0 & i  &  0  \\end{pmatrix} \\phantom{...} \\textrm{y} \\phantom{...} CU3_{0,1}(\\pi, \\frac{\\pi}{2}, \\frac{7\\pi}{2})= \\begin{pmatrix} 1 & 0 & 0 & 0 \\\\ 0 & 0 & 0  & i\\\\  0 & 0 & 1 & 0 \\\\\n",
    " 0 & i & 0  &  0  \\end{pmatrix} $$\n",
    " \n",
    " Implementemos la compuerta $CU3$ en un circuito y obtengamos su matriz:"
   ]
  },
  {
   "cell_type": "code",
   "execution_count": 7,
   "id": "cbc54ff1",
   "metadata": {},
   "outputs": [
    {
     "data": {
      "image/png": "[encoded data removed]",
      "text/plain": [
       "<Figure size 287.294x200.667 with 1 Axes>"
      ]
     },
     "execution_count": 7,
     "metadata": {},
     "output_type": "execute_result"
    }
   ],
   "source": [
    "from qiskit import QuantumCircuit, execute, Aer\n",
    "from qiskit.circuit.library import U3Gate\n",
    "qc3 = QuantumCircuit(2)\n",
    "CU3_10 = U3Gate(np.pi,np.pi/2,np.pi*7/2).control(1)\n",
    "qc3.append(CU3_10,[1,0])\n",
    "qc3.draw('mpl')"
   ]
  },
  {
   "cell_type": "code",
   "execution_count": 8,
   "id": "75c8138b",
   "metadata": {},
   "outputs": [
    {
     "name": "stdout",
     "output_type": "stream",
     "text": [
      "Operator([[1.+0.j, 0.+0.j, 0.+0.j, 0.+0.j],\n",
      "          [0.+0.j, 1.+0.j, 0.+0.j, 0.+0.j],\n",
      "          [0.+0.j, 0.+0.j, 0.+0.j, 0.+1.j],\n",
      "          [0.+0.j, 0.+0.j, 0.+1.j, 0.-0.j]],\n",
      "         input_dims=(2, 2), output_dims=(2, 2))\n"
     ]
    }
   ],
   "source": [
    "backend = Aer.get_backend('unitary_simulator')\n",
    "job = execute(qc3, backend, shots=1)\n",
    "result = job.result()\n",
    "print(result.get_unitary(qc3,3))"
   ]
  },
  {
   "cell_type": "code",
   "execution_count": 9,
   "id": "479b8778",
   "metadata": {},
   "outputs": [
    {
     "data": {
      "image/png": "[encoded data removed]",
      "text/plain": [
       "<Figure size 287.294x200.667 with 1 Axes>"
      ]
     },
     "execution_count": 9,
     "metadata": {},
     "output_type": "execute_result"
    }
   ],
   "source": [
    "qc4 = QuantumCircuit(2)\n",
    "CU3_01 = U3Gate(np.pi,np.pi/2,np.pi*7/2).control(1)\n",
    "qc4.append(CU3_01,[0,1])\n",
    "qc4.draw('mpl')"
   ]
  },
  {
   "cell_type": "code",
   "execution_count": 10,
   "id": "fd8db3cf",
   "metadata": {},
   "outputs": [
    {
     "name": "stdout",
     "output_type": "stream",
     "text": [
      "Operator([[1.+0.j, 0.+0.j, 0.+0.j, 0.+0.j],\n",
      "          [0.+0.j, 0.+0.j, 0.+0.j, 0.+1.j],\n",
      "          [0.+0.j, 0.+0.j, 1.+0.j, 0.+0.j],\n",
      "          [0.+0.j, 0.+1.j, 0.+0.j, 0.-0.j]],\n",
      "         input_dims=(2, 2), output_dims=(2, 2))\n"
     ]
    }
   ],
   "source": [
    "job = execute(qc4, backend, shots=1)\n",
    "result = job.result()\n",
    "print(result.get_unitary(qc4,3))"
   ]
  },
  {
   "cell_type": "markdown",
   "id": "89630f1c-3b70-453a-b68d-6f77afb99883",
   "metadata": {},
   "source": [
    "## Clase 4-5"
   ]
  },
  {
   "cell_type": "markdown",
   "id": "9adfd07d-6fc3-4cc2-a491-211e46026c6c",
   "metadata": {},
   "source": [
    "4.- A partir de la relación existente entre la operación (módulo 2) y el operador XOR ($\\oplus$). Mostrar:\n",
    "\n",
    "\\begin{align}\n",
    "\\sum_{i=1}^n x_iz_i \\pmod 2=x_1z_1\\oplus x_2z_2\\oplus\\cdots\\oplus x_nz_n\n",
    "\\end{align}\n",
    "\n",
    "5.- Implementa el código para la función oráculo balanceado con $n=3$, la cual retorna el circuito cuántico qc. Considere que $f(x)$ está dado por:\n",
    "\n",
    "\\begin{align}\n",
    "f(001)&=0\\\\\n",
    "f(000)&=0\\\\\n",
    "f(111)&=0\\\\\n",
    "f(110)&=0\\\\\n",
    "f(011)&=1\\\\\n",
    "f(010)&=1\\\\\n",
    "f(100)&=1\\\\\n",
    "f(101)&=1\\\\\n",
    "\\end{align}\n",
    "\n",
    "6.- En la construcción más simple posible de un oráculo balanceado, se utiliza la compuerta $CX$, la cual toma como objetivo el $(n+1)$-ésimo qubit del circuito y como control cada uno de los $n$ primeros qubits. Sin embargo, ¿es realmente necesario aplicar $CX$ a todos los $n$ primeros qubits, o podríamos prescindir de algunos y obtener igualmente un oráculo balanceado?\n",
    "\n",
    "7.- Implemente el algoritmo de Grover para determinar la máxima cantidad de aristas en un grafo de 5 nodos y 6 aristas:\n",
    "\n",
    "\\begin{align}\n",
    "(0,3)\\\\\n",
    "(0,4)\\\\\n",
    "(1,3)\\\\\n",
    "(1,4)\\\\\n",
    "(2,3)\\\\\n",
    "(2,4)\\\\\n",
    "\\end{align}"
   ]
  },
  {
   "cell_type": "markdown",
   "id": "fa21afeb-2e1e-4ad8-bba5-e3f8deeaa1ce",
   "metadata": {},
   "source": [
    "8.- En el algoritmo de Grover, determine el número de veces que debe ejercutarse el par $U_\\omega U_f$ para que el estado final de nuestro circuito coincida con el Ket de estados deseados sabiendo que $x\\in\\{0,1\\}^5$ y hay 4 estados que sastifacen las características de búsqueda."
   ]
  },
  {
   "cell_type": "markdown",
   "id": "fe6a0a56-4c1a-4307-bca1-ce168a444190",
   "metadata": {},
   "source": [
    "Extra 1.- Si\n",
    "\n",
    "\\begin{align}\n",
    "\\ket{\\psi3}&=U\\omega\\ket{\\psi_2}\\\n",
    "&=\\left(2\\ket{s}\\bra{s}-\\mathbb{I}\\right)\\left(-\\sqrt{\\frac{a}{2^n}}\\ket{A}+\\sqrt{\\frac{b}{2^n}}\\ket{B}\\right)\n",
    "\\end{align}\n",
    "\n",
    "Usando\n",
    "\\begin{align}\n",
    "\\ket{s}\\bra{s}=\\frac{a}{2^n}\\ket{A}\\bra{A}+\\frac{b}{2^n}\\ket{B}\\bra{B}+\\frac{\\sqrt{ab}}{2^n}\\left[\\ket{A}\\bra{B}+\\ket{B}\\bra{A}\\right]\n",
    "\\end{align}\n",
    "\\begin{align}\n",
    "&\\sin\\theta=\\sqrt{\\frac{a}{2^n}}\\\n",
    "&\\cos\\theta=\\sqrt{\\frac{b}{2^n}}\n",
    "\\end{align}\n",
    "\n",
    "Demuestre:\n",
    "\\begin{align}\n",
    "\\ket{\\psi_3}=\\sin 3\\theta\\ket{A}+\\cos 3\\theta\\ket{B}\n",
    "\\end{align}"
   ]
  },
  {
   "cell_type": "markdown",
   "id": "d1260753",
   "metadata": {},
   "source": [
    "### Solución: "
   ]
  },
  {
   "cell_type": "markdown",
   "id": "d522cf99",
   "metadata": {},
   "source": [
    "4.- P.D. :\n",
    "\n",
    "\\begin{align}\n",
    "\\sum_{i=1}^n x_iz_i \\pmod 2=x_1z_1\\oplus x_2z_2\\oplus\\cdots\\oplus x_nz_n\n",
    "\\end{align}\n",
    "\n",
    "Dem: Recordemos que $\\mathbb{Z}_{2}$ es un campo, cuyas operaciones satisfacen los axiomas de campo y se definen como:\n",
    "$$a \\pmod 2 +_2 b \\pmod 2 := (a+_{\\mathbb{Z}}b)\\pmod 2$$\n",
    "Y\n",
    "$$a \\pmod 2 \\times_2 b \\pmod 2 := (a\\times_{\\mathbb{Z}}b)\\pmod 2$$\n",
    "\n",
    "Y además la operación $+_2 \\equiv \\oplus$ para a y b en {0,1}.\n",
    "\n",
    "Así, queda inmediato, por definiciòn y asociatividad, que: \n",
    "$$\\left (\\sum_{i=1}^n x_iz_i \\right) \\pmod 2= x_1z_1 \\pmod 2 +_2 x_2z_2 \\pmod 2 + _2\\cdots +_2 x_nz_n \\pmod 2 $$ \n",
    "Y dado que $x_iy_i \\in \\{0,1\\} \\forall i \\in \\{1,...,n\\}$, pues $x_i,y_i \\in \\{0,1\\} $, entonces $x_iy_i \\pmod 2 \\equiv x_iy_i$, así, finalmente tenemos:\n",
    "\n",
    "$$\\left (\\sum_{i=1}^n x_iz_i \\right) \\pmod 2 = x_1z_1\\oplus x_2z_2\\oplus\\cdots\\oplus x_nz_n $$"
   ]
  },
  {
   "cell_type": "markdown",
   "id": "960098d6",
   "metadata": {},
   "source": [
    "5.- Codifiquemos el oráculo\n",
    "\\begin{align}\n",
    "f(001)&=0\\\\\n",
    "f(000)&=0\\\\\n",
    "f(111)&=0\\\\\n",
    "f(110)&=0\\\\\n",
    "f(011)&=1\\\\\n",
    "f(010)&=1\\\\\n",
    "f(100)&=1\\\\\n",
    "f(101)&=1\\\\\n",
    "\\end{align}\n"
   ]
  },
  {
   "cell_type": "code",
   "execution_count": 11,
   "id": "df90a5ed",
   "metadata": {},
   "outputs": [],
   "source": [
    "def oraculo():\n",
    "    circuit = QuantumCircuit(4)\n",
    "    circuit.cx(1,3) #(1) \n",
    "    circuit.cx(2,3) #(2)\n",
    "    circuit.barrier()\n",
    "    #f(001) --> 0\n",
    "    #f(000) --> 0\n",
    "    #f(111) -(1)-> 1 -(2)->0\n",
    "    #f(110) -(1)-> 1 -(2)->0\n",
    "    #f(011) -(1)-> 1\n",
    "    #f(010) -(1)-> 1\n",
    "    #f(100) -(2)-> 1\n",
    "    #f(101) -(2)-> 1\n",
    "    #Es el oráculo que buscamos\n",
    "    return circuit"
   ]
  },
  {
   "cell_type": "markdown",
   "id": "d1f0048a",
   "metadata": {},
   "source": [
    "Probemos el oráculo"
   ]
  },
  {
   "cell_type": "code",
   "execution_count": 12,
   "id": "8dd8ccd7",
   "metadata": {},
   "outputs": [
    {
     "data": {
      "text/html": [
       "<pre style=\"word-wrap: normal;white-space: pre;background: #fff0;line-height: 1.1;font-family: &quot;Courier New&quot;,Courier,monospace\">     ┌───┐           ░ \n",
       "q_0: ┤ H ├───────────░─\n",
       "     ├───┤           ░ \n",
       "q_1: ┤ H ├──■────────░─\n",
       "     ├───┤  │        ░ \n",
       "q_2: ┤ H ├──┼────■───░─\n",
       "     └───┘┌─┴─┐┌─┴─┐ ░ \n",
       "q_3: ─────┤ X ├┤ X ├─░─\n",
       "          └───┘└───┘ ░ </pre>"
      ],
      "text/plain": [
       "     ┌───┐           ░ \n",
       "q_0: ┤ H ├───────────░─\n",
       "     ├───┤           ░ \n",
       "q_1: ┤ H ├──■────────░─\n",
       "     ├───┤  │        ░ \n",
       "q_2: ┤ H ├──┼────■───░─\n",
       "     └───┘┌─┴─┐┌─┴─┐ ░ \n",
       "q_3: ─────┤ X ├┤ X ├─░─\n",
       "          └───┘└───┘ ░ "
      ]
     },
     "execution_count": 12,
     "metadata": {},
     "output_type": "execute_result"
    }
   ],
   "source": [
    "state=QuantumCircuit(4)\n",
    "state.h(range(3))\n",
    "state=state.compose(oraculo())\n",
    "state.draw()"
   ]
  },
  {
   "cell_type": "code",
   "execution_count": 13,
   "id": "8f9f0a38",
   "metadata": {},
   "outputs": [
    {
     "data": {
      "text/latex": [
       "$$\\frac{\\sqrt{2}}{4} |0000\\rangle+\\frac{\\sqrt{2}}{4} |0001\\rangle+\\frac{\\sqrt{2}}{4} |0110\\rangle+\\frac{\\sqrt{2}}{4} |0111\\rangle+\\frac{\\sqrt{2}}{4} |1010\\rangle+\\frac{\\sqrt{2}}{4} |1011\\rangle+\\frac{\\sqrt{2}}{4} |1100\\rangle+\\frac{\\sqrt{2}}{4} |1101\\rangle$$"
      ],
      "text/plain": [
       "<IPython.core.display.Latex object>"
      ]
     },
     "execution_count": 13,
     "metadata": {},
     "output_type": "execute_result"
    }
   ],
   "source": [
    "state_vector = Statevector.from_int(0, 2**4)\n",
    "state_vector = state_vector.evolve(state)\n",
    "state_vector.draw('latex')"
   ]
  },
  {
   "cell_type": "markdown",
   "id": "3166659c",
   "metadata": {},
   "source": [
    "Notemos que los estados que inician con el qubit 3 en estado $|0\\rangle$ corresponden a los estados a los que el oráculo manda a 0 y los que inician con el estado $|1\\rangle$ corresponden a los estados a los que el oráculo manda a 1. De esta manera comprobamos que nuestro oráculo es el que buscamos. Implementemos el algoritmo de Deutsch-Jozsa"
   ]
  },
  {
   "cell_type": "code",
   "execution_count": 14,
   "id": "28d7bcb2",
   "metadata": {},
   "outputs": [
    {
     "data": {
      "text/html": [
       "<pre style=\"word-wrap: normal;white-space: pre;background: #fff0;line-height: 1.1;font-family: &quot;Courier New&quot;,Courier,monospace\">     ┌───┐      ░            ░ ┌───┐ ░ ┌─┐      \n",
       "q_0: ┤ H ├──────░────────────░─┤ H ├─░─┤M├──────\n",
       "     ├───┤      ░            ░ ├───┤ ░ └╥┘┌─┐   \n",
       "q_1: ┤ H ├──────░───■────────░─┤ H ├─░──╫─┤M├───\n",
       "     ├───┤      ░   │        ░ ├───┤ ░  ║ └╥┘┌─┐\n",
       "q_2: ┤ H ├──────░───┼────■───░─┤ H ├─░──╫──╫─┤M├\n",
       "     ├───┤┌───┐ ░ ┌─┴─┐┌─┴─┐ ░ └───┘ ░  ║  ║ └╥┘\n",
       "q_3: ┤ X ├┤ H ├─░─┤ X ├┤ X ├─░───────░──╫──╫──╫─\n",
       "     └───┘└───┘ ░ └───┘└───┘ ░       ░  ║  ║  ║ \n",
       "c: 3/═══════════════════════════════════╩══╩══╩═\n",
       "                                        0  1  2 </pre>"
      ],
      "text/plain": [
       "     ┌───┐      ░            ░ ┌───┐ ░ ┌─┐      \n",
       "q_0: ┤ H ├──────░────────────░─┤ H ├─░─┤M├──────\n",
       "     ├───┤      ░            ░ ├───┤ ░ └╥┘┌─┐   \n",
       "q_1: ┤ H ├──────░───■────────░─┤ H ├─░──╫─┤M├───\n",
       "     ├───┤      ░   │        ░ ├───┤ ░  ║ └╥┘┌─┐\n",
       "q_2: ┤ H ├──────░───┼────■───░─┤ H ├─░──╫──╫─┤M├\n",
       "     ├───┤┌───┐ ░ ┌─┴─┐┌─┴─┐ ░ └───┘ ░  ║  ║ └╥┘\n",
       "q_3: ┤ X ├┤ H ├─░─┤ X ├┤ X ├─░───────░──╫──╫──╫─\n",
       "     └───┘└───┘ ░ └───┘└───┘ ░       ░  ║  ║  ║ \n",
       "c: 3/═══════════════════════════════════╩══╩══╩═\n",
       "                                        0  1  2 "
      ]
     },
     "execution_count": 14,
     "metadata": {},
     "output_type": "execute_result"
    }
   ],
   "source": [
    "qc5=QuantumCircuit(4,3)\n",
    "qc5.x(3) #Inicializamos el cuarto cubit en estado 1 para convertirlo en |->\n",
    "qc5.h(range(4)) #Preparamos la superposición\n",
    "qc5.barrier()\n",
    "qc5=qc5.compose(oraculo()) #Oráculo y phase kickback\n",
    "qc5.h(range(3)) #Devolvemos los qubits a la base Z\n",
    "qc5.barrier()\n",
    "qc5.measure([0,1,2],[0,1,2]) #Medimos\n",
    "qc5.draw()"
   ]
  },
  {
   "cell_type": "code",
   "execution_count": 15,
   "id": "0597eec6",
   "metadata": {},
   "outputs": [
    {
     "data": {
      "image/png": "[encoded data removed]",
      "text/plain": [
       "<Figure size 700x500 with 1 Axes>"
      ]
     },
     "execution_count": 15,
     "metadata": {},
     "output_type": "execute_result"
    }
   ],
   "source": [
    "from qiskit.visualization import plot_histogram\n",
    "aer_sim = Aer.get_backend('aer_simulator')\n",
    "results = aer_sim.run(qc5).result()\n",
    "Respuesta = results.get_counts()\n",
    "plot_histogram(Respuesta)"
   ]
  },
  {
   "cell_type": "code",
   "execution_count": 16,
   "id": "8e2a1c1e",
   "metadata": {},
   "outputs": [
    {
     "name": "stdout",
     "output_type": "stream",
     "text": [
      "{'110': 1024}\n",
      "Nuestro oráculo es balanceado\n"
     ]
    }
   ],
   "source": [
    "print(Respuesta) \n",
    "print(\"Nuestro oráculo es balanceado\")"
   ]
  },
  {
   "cell_type": "markdown",
   "id": "2768a69e",
   "metadata": {},
   "source": [
    "6.- No es necesario implementar n compuertas CX para tener un oráculo balanceado (Véase como ejemplo el problema anterior). Por ejemplo, el oráculo balanceado más \"sencillo\" radica en utilizar una única compuerta CX. Consideremos el caso del siguiente circuito:"
   ]
  },
  {
   "cell_type": "code",
   "execution_count": 17,
   "id": "38fed2da",
   "metadata": {},
   "outputs": [
    {
     "data": {
      "text/html": [
       "<pre style=\"word-wrap: normal;white-space: pre;background: #fff0;line-height: 1.1;font-family: &quot;Courier New&quot;,Courier,monospace\">     ┌───┐      ░       ░ ┌───┐ ░ ┌─┐                        \n",
       "q_0: ┤ H ├──────░───■───░─┤ H ├─░─┤M├────────────────────────\n",
       "     ├───┤      ░   │   ░ ├───┤ ░ └╥┘┌─┐                     \n",
       "q_1: ┤ H ├──────░───┼───░─┤ H ├─░──╫─┤M├─────────────────────\n",
       "     ├───┤      ░   │   ░ ├───┤ ░  ║ └╥┘┌─┐                  \n",
       "q_2: ┤ H ├──────░───┼───░─┤ H ├─░──╫──╫─┤M├──────────────────\n",
       "     ├───┤      ░   │   ░ ├───┤ ░  ║  ║ └╥┘┌─┐               \n",
       "q_3: ┤ H ├──────░───┼───░─┤ H ├─░──╫──╫──╫─┤M├───────────────\n",
       "     ├───┤      ░   │   ░ ├───┤ ░  ║  ║  ║ └╥┘┌─┐            \n",
       "q_4: ┤ H ├──────░───┼───░─┤ H ├─░──╫──╫──╫──╫─┤M├────────────\n",
       "     ├───┤      ░   │   ░ ├───┤ ░  ║  ║  ║  ║ └╥┘┌─┐         \n",
       "q_5: ┤ H ├──────░───┼───░─┤ H ├─░──╫──╫──╫──╫──╫─┤M├─────────\n",
       "     ├───┤      ░   │   ░ ├───┤ ░  ║  ║  ║  ║  ║ └╥┘┌─┐      \n",
       "q_6: ┤ H ├──────░───┼───░─┤ H ├─░──╫──╫──╫──╫──╫──╫─┤M├──────\n",
       "     ├───┤      ░   │   ░ ├───┤ ░  ║  ║  ║  ║  ║  ║ └╥┘┌─┐   \n",
       "q_7: ┤ H ├──────░───┼───░─┤ H ├─░──╫──╫──╫──╫──╫──╫──╫─┤M├───\n",
       "     ├───┤      ░   │   ░ ├───┤ ░  ║  ║  ║  ║  ║  ║  ║ └╥┘┌─┐\n",
       "q_8: ┤ H ├──────░───┼───░─┤ H ├─░──╫──╫──╫──╫──╫──╫──╫──╫─┤M├\n",
       "     ├───┤┌───┐ ░ ┌─┴─┐ ░ └───┘ ░  ║  ║  ║  ║  ║  ║  ║  ║ └╥┘\n",
       "q_9: ┤ X ├┤ H ├─░─┤ X ├─░───────░──╫──╫──╫──╫──╫──╫──╫──╫──╫─\n",
       "     └───┘└───┘ ░ └───┘ ░       ░  ║  ║  ║  ║  ║  ║  ║  ║  ║ \n",
       "c: 9/══════════════════════════════╩══╩══╩══╩══╩══╩══╩══╩══╩═\n",
       "                                   0  1  2  3  4  5  6  7  8 </pre>"
      ],
      "text/plain": [
       "     ┌───┐      ░       ░ ┌───┐ ░ ┌─┐                        \n",
       "q_0: ┤ H ├──────░───■───░─┤ H ├─░─┤M├────────────────────────\n",
       "     ├───┤      ░   │   ░ ├───┤ ░ └╥┘┌─┐                     \n",
       "q_1: ┤ H ├──────░───┼───░─┤ H ├─░──╫─┤M├─────────────────────\n",
       "     ├───┤      ░   │   ░ ├───┤ ░  ║ └╥┘┌─┐                  \n",
       "q_2: ┤ H ├──────░───┼───░─┤ H ├─░──╫──╫─┤M├──────────────────\n",
       "     ├───┤      ░   │   ░ ├───┤ ░  ║  ║ └╥┘┌─┐               \n",
       "q_3: ┤ H ├──────░───┼───░─┤ H ├─░──╫──╫──╫─┤M├───────────────\n",
       "     ├───┤      ░   │   ░ ├───┤ ░  ║  ║  ║ └╥┘┌─┐            \n",
       "q_4: ┤ H ├──────░───┼───░─┤ H ├─░──╫──╫──╫──╫─┤M├────────────\n",
       "     ├───┤      ░   │   ░ ├───┤ ░  ║  ║  ║  ║ └╥┘┌─┐         \n",
       "q_5: ┤ H ├──────░───┼───░─┤ H ├─░──╫──╫──╫──╫──╫─┤M├─────────\n",
       "     ├───┤      ░   │   ░ ├───┤ ░  ║  ║  ║  ║  ║ └╥┘┌─┐      \n",
       "q_6: ┤ H ├──────░───┼───░─┤ H ├─░──╫──╫──╫──╫──╫──╫─┤M├──────\n",
       "     ├───┤      ░   │   ░ ├───┤ ░  ║  ║  ║  ║  ║  ║ └╥┘┌─┐   \n",
       "q_7: ┤ H ├──────░───┼───░─┤ H ├─░──╫──╫──╫──╫──╫──╫──╫─┤M├───\n",
       "     ├───┤      ░   │   ░ ├───┤ ░  ║  ║  ║  ║  ║  ║  ║ └╥┘┌─┐\n",
       "q_8: ┤ H ├──────░───┼───░─┤ H ├─░──╫──╫──╫──╫──╫──╫──╫──╫─┤M├\n",
       "     ├───┤┌───┐ ░ ┌─┴─┐ ░ └───┘ ░  ║  ║  ║  ║  ║  ║  ║  ║ └╥┘\n",
       "q_9: ┤ X ├┤ H ├─░─┤ X ├─░───────░──╫──╫──╫──╫──╫──╫──╫──╫──╫─\n",
       "     └───┘└───┘ ░ └───┘ ░       ░  ║  ║  ║  ║  ║  ║  ║  ║  ║ \n",
       "c: 9/══════════════════════════════╩══╩══╩══╩══╩══╩══╩══╩══╩═\n",
       "                                   0  1  2  3  4  5  6  7  8 "
      ]
     },
     "execution_count": 17,
     "metadata": {},
     "output_type": "execute_result"
    }
   ],
   "source": [
    "qc6=QuantumCircuit(10,9)\n",
    "qc6.x(9) #Inicializamos el décimo cubit en estado 1 para convertirlo en |->\n",
    "qc6.h(range(10)) #Preparamos la superposición\n",
    "qc6.barrier()\n",
    "qc6.cx(0,9) #Oráculo y phase kickback, q_0:control, q_9: target\n",
    "qc6.barrier()\n",
    "qc6.h(range(9)) #Devolvemos los qubits a la base Z\n",
    "qc6.barrier()\n",
    "qc6.measure(range(9),range(9)) #Medimos\n",
    "qc6.draw()"
   ]
  },
  {
   "cell_type": "code",
   "execution_count": 18,
   "id": "2999dced",
   "metadata": {},
   "outputs": [
    {
     "data": {
      "image/png": "[encoded data removed]",
      "text/plain": [
       "<Figure size 700x500 with 1 Axes>"
      ]
     },
     "execution_count": 18,
     "metadata": {},
     "output_type": "execute_result"
    }
   ],
   "source": [
    "results = aer_sim.run(qc6).result()\n",
    "Respuesta = results.get_counts()\n",
    "plot_histogram(Respuesta)"
   ]
  },
  {
   "cell_type": "markdown",
   "id": "a23c4bf3",
   "metadata": {},
   "source": [
    "Dado que el resultado del circuito es distinto de cero, para todos las corridas, entonces concluimos que nuestro oráculo es balanceado. Expliquemos el porqué: centrémonos en el qubit $q_0$ y el $q_9$, una vez aplicado la compuerta Hadamar tenemos los estados $|+\\rangle_0 |-\\rangle_9$; la compuerta CNOT genera el siguiente estado $|0\\rangle_0|-\\rangle_9 - |1\\rangle_0|-\\rangle_9$; así, considerando los $2^8$ estados restantes $(|+\\rangle_1 ... |+\\rangle_8)$, estos se distribuyen de igual manera, resultando en:\n",
    "$$|0\\rangle_0 |+\\rangle_1 ... |+\\rangle_8 |-\\rangle_9 - |1\\rangle_0 |+\\rangle_1 ... |+\\rangle_8 |-\\rangle_9 $$\n",
    "De esta manera podemos notar que la mitad de los estados ($2^8$) corresponden a $f(x)=0$, tal que el qubit $q_0$ esté en estado $|0\\rangle_0$ y la otra mitad correspondiente a $f(x)=1$, tal que el qubit $q_0$ esté en estado $|1\\rangle_0$.\n",
    "\n",
    "De manera general, dado n-qubits y un ancilla, podemos hacer un oráculo balanceado a partir de una única compuerta CNOT, con un control $q_j$, con $j \\in \\{0,...,n-1\\}$ y $q_n$ el target (el qubit ancilla). Notemos que en general hay ${2^n \\choose 2^{(n-1)}}$ funciones balanceadas, y de cada una dependerá en número de compuertas $CX$ necesarias para implementarlas. "
   ]
  },
  {
   "cell_type": "markdown",
   "id": "1ef99a48",
   "metadata": {},
   "source": [
    "7.- Notemos que esta gráfica es bipartita, esto significa que es posible separar el gráfo en 2 conjuntos de nodos tales que a cada arista conecta a dos nodos de distintos conjuntos. De esta manera, podemos identificar que tenemos los conjuntos $\\{0,1,2\\}$ y $\\{3,4\\}$. Así el máximo de aristas que conectan a dos distintos nodos es 6 (que es el total de aristas). Así el contador debe tener al menos 3 qubits. Así, codificaremos el oráculo, el difusor y finalmente computar el algoritmo de Grover."
   ]
  },
  {
   "cell_type": "code",
   "execution_count": 19,
   "id": "1a3a2a5c",
   "metadata": {},
   "outputs": [],
   "source": [
    "#Importamos todas las librerías necesarias para que corran nuestras funciones\n",
    "from qiskit import QuantumRegister, ClassicalRegister, QuantumCircuit\n",
    "from qiskit.circuit.library import XGate,ZGate\n",
    "from qiskit.visualization import plot_histogram\n",
    "from qiskit import execute, Aer"
   ]
  },
  {
   "cell_type": "code",
   "execution_count": 20,
   "id": "b3100f36",
   "metadata": {},
   "outputs": [],
   "source": [
    "def contador_oraculo(qcir,qreg): #Recibe como entradas un circuito y su registro cuántico\n",
    "    for i in range(3): #Revisamos y contamos las aristas correctas x-3, x-4\n",
    "        qcir.cx(qreg[i],qreg[5+i]) #El qubit q_(5+i) pasa a un estado \\1> si detecta el estado \\1> del qubit_i \"\n",
    "        qcir.cx(qreg[3],qreg[5+i]) #El qubit q_(5+i) detecta si q_i y q_3 son de distintos conjuntos (\\0> si son del mismo, \\1> si son distintos)\n",
    "        qcir.cx(qreg[i],qreg[8+i]) #Análogo a los dos pasos de arriba\n",
    "        qcir.cx(qreg[4],qreg[8+i])\n",
    "    mcx= XGate().control(6)\n",
    "    qcir.append(mcx,range(5,12)) #Activa el estado \\1> cuando se detecte que los qubits de las aristas (q_5,...,q_10) estén en \\1>\n",
    "    return qcir #Para este caso no requerimos el sumador, ya que sabemos que el máximo de aristas a activar debe ser 6, así nos ahorramos unos qubits $$$"
   ]
  },
  {
   "cell_type": "code",
   "execution_count": 21,
   "id": "6ad67ae3",
   "metadata": {},
   "outputs": [],
   "source": [
    "def grover_difusion(qcir,qreg): #Implementamos el difusor\n",
    "    qcir.h(range(5))\n",
    "    qcir.x(range(5))\n",
    "    mcz = ZGate().control(4)\n",
    "    qcir.append(mcz,range(5))\n",
    "    qcir.x(range(5))\n",
    "    qcir.h(range(5))\n",
    "    return qcir"
   ]
  },
  {
   "cell_type": "code",
   "execution_count": 22,
   "id": "c1122737",
   "metadata": {},
   "outputs": [],
   "source": [
    "def oraculo(qcir,qreg): #Oraculo completo con phase-kickback\n",
    "    qcir=contador_oraculo(qcir,qreg)\n",
    "    qaux=qcir.inverse()\n",
    "    qcir.z(11)\n",
    "    qcir.compose(qaux,inplace=True)\n",
    "    return qcir"
   ]
  },
  {
   "cell_type": "code",
   "execution_count": 23,
   "id": "7364f5d1",
   "metadata": {},
   "outputs": [
    {
     "data": {
      "image/png": "[encoded data removed]",
      "text/plain": [
       "<Figure size 700x500 with 1 Axes>"
      ]
     },
     "execution_count": 23,
     "metadata": {},
     "output_type": "execute_result"
    }
   ],
   "source": [
    "#Computamos el algoritmo completo de grover 2-veces\n",
    "qr7=QuantumRegister(12)\n",
    "qc7=QuantumCircuit(qr7)\n",
    "qra=QuantumRegister(12)\n",
    "cra=ClassicalRegister(5)\n",
    "qa=QuantumCircuit(qra,cra)\n",
    "qa.h(range(5))\n",
    "qb=grover_difusion(oraculo(qc7,qr7),qr7)\n",
    "qa.compose(qb.compose(qb),inplace=True)\n",
    "qa.measure(range(5),cra)\n",
    "#Ejecutamos nuestro circuito\n",
    "qasm_simulator = Aer.get_backend('qasm_simulator')\n",
    "job = execute(qa, qasm_simulator, shots = 1000)\n",
    "counts = job.result().get_counts(qa)\n",
    "plot_histogram(counts)"
   ]
  },
  {
   "cell_type": "markdown",
   "id": "cd8553a1",
   "metadata": {},
   "source": [
    "Notemos que recuperamos los conjuntos $\\{0,1\\}$ y $\\{2,3,4\\}$, en lo cuales existe el máximo corte"
   ]
  },
  {
   "cell_type": "markdown",
   "id": "0a6d8762",
   "metadata": {},
   "source": [
    "8.- En el algoritmo de Grover, determine el número de veces que debe ejercutarse el par $U_\\omega U_f$ para que el estado final de nuestro circuito coincida con el Ket de estados deseados sabiendo que $x\\in\\{0,1\\}^5$ y hay 4 estados que sastifacen las características de búsqueda.\n",
    "\n",
    "De la clase 5, en el notebook 5.1, obtuvimos como resultado que el número necesario de veces que debemos aplicar $U_\\omega U_f$ sobre $\\ket{s}$ para maximizar la probabilidad de los estados buscados es\n",
    "\n",
    "$$ k\\approx\\frac{\\pi}{4}\\sqrt{\\frac{2^n}{a}} $$\n",
    "\n",
    "Donde $a = $ el número de estados deseados, $n =$ el número de qubits y $k=$ el número de veces que debe ser aplicado $U_\\omega U_f$. Sustituyendo los valores tenemos que:\n",
    "\n",
    "$$ k\\approx\\frac{\\pi}{4}\\sqrt{\\frac{2^5}{4}}= \\pi \\sqrt{\\frac{2^5}{2^6}} = \\frac{\\pi}{\\sqrt{2}} \\approx 2.221  $$\n",
    "\n",
    "Redondeando, determinamos que con $k = 2$ veces, maximizamos la probabilidad de los estados buscados"
   ]
  },
  {
   "cell_type": "markdown",
   "id": "86a7dbc7",
   "metadata": {},
   "source": [
    "Extra 1.- Si\n",
    "\n",
    "\\begin{align}\n",
    "\\ket{\\psi_3}&=U_\\omega\\ket{\\psi_2} =\\left(2\\ket{s}\\bra{s}-\\mathbb{I}\\right)\\left(-\\sqrt{\\frac{a}{2^n}}\\ket{A}+\\sqrt{\\frac{b}{2^n}}\\ket{B}\\right)\n",
    "\\end{align}\n",
    "\n",
    "P.D.:\n",
    "\\begin{align}\n",
    "\\ket{\\psi_3}=\\sin 3\\theta\\ket{A}+\\cos 3\\theta\\ket{B}\n",
    "\\end{align}\n",
    "\n",
    "Calculemos ($\\ket{s}\\bra{s}) \\ket{\\psi_2}$: \n",
    "$$ (\\ket{s}\\bra{s}) \\ket{\\psi_2}=(\\frac{a}{2^n}\\ket{A}\\bra{A}+\\frac{b}{2^n}\\ket{B}\\bra{B}+\\frac{\\sqrt{ab}}{2^n}\\left[\\ket{A}\\bra{B}+\\ket{B}\\bra{A}\\right]) \\left(-\\sqrt{\\frac{a}{2^n}}\\ket{A}+\\sqrt{\\frac{b}{2^n}}\\ket{B}\\right)  $$\n",
    "$$ =  (\\frac{a}{2^n}\\ket{A}\\bra{A})\\left(-\\sqrt{\\frac{a}{2^n}}\\ket{A}+\\sqrt{\\frac{b}{2^n}}\\ket{B}\\right)+(\\frac{b}{2^n}\\ket{B}\\bra{B})\\left(-\\sqrt{\\frac{a}{2^n}}\\ket{A}+\\sqrt{\\frac{b}{2^n}}\\ket{B}\\right)+(\\frac{\\sqrt{ab}}{2^n}\\left[\\ket{A}\\bra{B}+\\ket{B}\\bra{A}\\right]) \\left(-\\sqrt{\\frac{a}{2^n}}\\ket{A}+\\sqrt{\\frac{b}{2^n}}\\ket{B}\\right)  $$\n",
    "Dado que $\\langle B | B \\rangle =1=\\langle A | A \\rangle$ y $\\langle A | B \\rangle=0$:\n",
    "$$ (\\ket{s}\\bra{s}) \\ket{\\psi_2} = -\\left (\\frac{a}{2^n} \\right)^\\frac{3}{2}  \\ket{A}+\\left (\\frac{b}{2^n} \\right)^\\frac{3}{2}  \\ket{B}+\\frac{b}{2^n}\\sqrt{\\frac{a}{2^n}} \\ket{A}-\\frac{a}{2^n}\\sqrt{\\frac{b}{2^n}}\\ket{B}  = \\left [\\frac{b}{2^n}\\sqrt{\\frac{a}{2^n}}  -\\left (\\frac{a}{2^n} \\right)^\\frac{3}{2} \\right] \\ket{A}+\\left [\\left (\\frac{b}{2^n} \\right)^\\frac{3}{2}- \\frac{a}{2^n}\\sqrt{\\frac{b}{2^n}} \\right]\\ket{B}$$ \n",
    "\n",
    "Entonces:\n",
    "\n",
    "$$(2\\ket{s}\\bra{s} - I) \\ket{\\psi_2}  =  \\left [\\left(\\frac{2 b}{2^n}+1 \\right)\\sqrt{\\frac{a}{2^n}}  -2\\left (\\frac{a}{2^n} \\right)^\\frac{3}{2} \\right] \\ket{A}+\\left [  2 \\left (\\frac{b}{2^n} \\right)^\\frac{3}{2}- \\left (\\frac{2a}{2^n}+1 \\right) \\sqrt{\\frac{b}{2^n}} \\right]\\ket{B} $$\n",
    "\n",
    "Observemos que $a+b=2^n$, de aquí tenemos que $\\frac{2 b}{2^n}+1 = \\frac{3b}{2^n}+ \\frac{a}{2^n}$   y   $\\frac{2 a}{2^n}+1 = \\frac{3a}{2^n}+ \\frac{b}{2^n}$, así tenemos que: \n",
    "\n",
    "$$(2\\ket{s}\\bra{s} - I) \\ket{\\psi_2}  =  \\left [\\left(\\frac{3b}{2^n}\\right)\\sqrt{\\frac{a}{2^n}}  -\\left (\\frac{a}{2^n} \\right)^\\frac{3}{2} \\right] \\ket{A}+\\left [\\left (\\frac{b}{2^n} \\right)^\\frac{3}{2}- \\left (\\frac{3a}{2^n} \\right) \\sqrt{\\frac{b}{2^n}} \\right]\\ket{B} $$\n",
    "\n",
    "Dado que: \n",
    "$$\n",
    "\\sin\\theta=\\sqrt{\\frac{a}{2^n}} \\phantom{....} \\textrm{y} \\phantom{....} \\cos\\theta=\\sqrt{\\frac{b}{2^n}}\n",
    "$$\n",
    "Y además tenemos las siguientes relaciones geométricas:\n",
    "$$ \\sin 3\\theta = 3\\sin \\theta \\cos^2 \\theta - \\sin^3 \\theta \\phantom{....} \\textrm{y} \\phantom{....} \\cos 3\\theta = \\cos^3 \\theta - 3\\sin^2 \\theta \\cos \\theta $$\n",
    "Sustituyendo $\\sin \\theta$ y $\\cos \\theta$ obtenemos que: \n",
    "$$ \\sin 3\\theta = \\left(\\frac{3b}{2^n}\\right)\\sqrt{\\frac{a}{2^n}}  -\\left (\\frac{a}{2^n} \\right)^\\frac{3}{2} \\phantom{....} \\textrm{y} \\phantom{....} \\cos 3\\theta =  \\left (\\frac{b}{2^n} \\right)^\\frac{3}{2}- \\left (\\frac{3a}{2^n} \\right) \\sqrt{\\frac{b}{2^n}} $$\n",
    "Así concluimos que:\n",
    "$$ \\ket{\\psi_3}=(2\\ket{s}\\bra{s} - I) \\ket{\\psi_2} =\\sin 3\\theta\\ket{A}+\\cos 3\\theta\\ket{B}_\\blacksquare $$"
   ]
  },
  {
   "cell_type": "markdown",
   "id": "82a0a443-064c-4a24-8df7-33008ba3790a",
   "metadata": {},
   "source": [
    "## Clase 6:"
   ]
  },
  {
   "cell_type": "markdown",
   "id": "05ba4e37-34a3-4fc7-8ccd-46d2ced4a0d1",
   "metadata": {},
   "source": [
    "9.- La implementación de QFT se probó preparando el estado de Fourier $|\\widetilde{5}\\rangle$ para el cual $\\text{QFT}^{\\dagger}|\\widetilde{5}\\rangle= |101\\rangle$. Intenta encontrar el estado $|a\\rangle$ tal que $\\text{QFT}^{\\dagger}|a\\rangle = |100\\rangle$.\n",
    "\n",
    "10.- Encuentra el estado $|b\\rangle$ tal que $\\text{QFT}^{\\dagger}|b\\rangle = |011\\rangle$.\n",
    "\n",
    "Extra 3. Intente escribir la función QFT sin recursividad. Utilice el simulador unitario de Qiskit para verificar sus resultados."
   ]
  },
  {
   "cell_type": "markdown",
   "id": "e5bacc07",
   "metadata": {},
   "source": [
    "### Solución: "
   ]
  },
  {
   "cell_type": "markdown",
   "id": "d167bc37",
   "metadata": {},
   "source": [
    "9.- Calcularemos $\\ket{a}$; de la igualdad $\\text{QFT}^{\\dagger}|a\\rangle = |100\\rangle \\Rightarrow |a\\rangle = \\text{QFT} |100\\rangle $, por ser $\\text{QFT}$ unitaria. Finalmente tenemos que: \n",
    "\n",
    "$$|a\\rangle = \\text{QFT} |100\\rangle = \\frac{1}{\\sqrt{2^3}}\\left(\\vert0\\rangle + e^{\\frac{2\\pi i}{2}4} \\vert1\\rangle\\right) \\otimes \\left(\\vert0\\rangle + e^{\\frac{2\\pi i}{2^2}4} \\vert1\\rangle\\right)\\otimes \\left(\\vert0\\rangle + e^{\\frac{2\\pi i}{2^{3}}4} \\vert1\\rangle\\right)$$\n",
    "Dado que $100 \\equiv 4$. Así:\n",
    "$$|a\\rangle = \\frac{1}{\\sqrt{8}}\\left(\\vert0\\rangle + \\vert1\\rangle\\right) \\otimes \\left(\\vert0\\rangle +  \\vert1\\rangle\\right)\\otimes \\left(\\vert0\\rangle - \\vert1\\rangle\\right) =\\frac{\\sqrt{2}}{4}  (|000\\rangle - |001\\rangle+ |010\\rangle - |011\\rangle + |100\\rangle - |101\\rangle + |110\\rangle - |111\\rangle)$$\n",
    "Notemos que es el mismo vector que obtuvimos en el primer problema."
   ]
  },
  {
   "cell_type": "markdown",
   "id": "e92c9df6",
   "metadata": {},
   "source": [
    "10.- Calcularemos $\\ket{b}$; análogo al problema anterior. Tenemos que: \n",
    "\n",
    "$$|b\\rangle = \\text{QFT} |001\\rangle = \\frac{1}{\\sqrt{2^3}}\\left(\\vert0\\rangle + e^{\\frac{2\\pi i}{2}3} \\vert1\\rangle\\right) \\otimes \\left(\\vert0\\rangle + e^{\\frac{2\\pi i}{2^2}3} \\vert1\\rangle\\right)\\otimes \\left(\\vert0\\rangle + e^{\\frac{2\\pi i}{2^{3}}3} \\vert1\\rangle\\right)$$\n",
    "Dado que $011 \\equiv 4$. Así:\n",
    "$$|a\\rangle = \\frac{1}{\\sqrt{8}}\\left(\\vert0\\rangle - \\vert1\\rangle\\right) \\otimes \\left(\\vert0\\rangle - i  \\vert1\\rangle\\right)\\otimes (\\vert0\\rangle + \\frac{(-1+i)}{\\sqrt{2}} \\vert1\\rangle)= \\frac{\\sqrt{2}}{4}  (|000\\rangle +\\frac{(-1+i)}{4} |001\\rangle-i \\frac{\\sqrt{2}}{4} |010\\rangle + \\frac{(1+i)}{4} |011\\rangle - \\frac{\\sqrt{2}}{4} |100\\rangle + \\frac{(1-i)}{4}|101\\rangle + i \\frac{\\sqrt{2}}{4} |110\\rangle - \\frac{(1+i)}{4} |111\\rangle)$$\n"
   ]
  },
  {
   "cell_type": "markdown",
   "id": "2b5212aa",
   "metadata": {},
   "source": [
    "Implementemos el cirucito de QFT para comprobar (Los tomaré directo del notebook de la clase 6)"
   ]
  },
  {
   "cell_type": "code",
   "execution_count": 24,
   "id": "54faecc3",
   "metadata": {},
   "outputs": [],
   "source": [
    "from numpy import pi\n",
    "def qft_rotations(circuit, n):\n",
    "    \"\"\"Performs qft on the first n qubits in circuit (without swaps)\"\"\"\n",
    "    if n == 0:\n",
    "        return circuit\n",
    "    n -= 1\n",
    "    circuit.h(n)\n",
    "    for qubit in range(n):\n",
    "        circuit.cp(pi/2**(n-qubit), qubit, n)\n",
    "    # At the end of our function, we call the same function again on\n",
    "    # the next qubits (we reduced n by one earlier in the function)\n",
    "    qft_rotations(circuit, n)\n",
    "def swap_registers(circuit, n):\n",
    "    for qubit in range(n//2):\n",
    "        circuit.swap(qubit, n-qubit-1)\n",
    "    return circuit\n",
    "def qft(circuit, n):\n",
    "    \"\"\"QFT on the first n qubits in circuit\"\"\"\n",
    "    qft_rotations(circuit, n)\n",
    "    swap_registers(circuit, n)\n",
    "    return circuit\n",
    "def inverse_qft(circuit, n):\n",
    "    \"\"\"Does the inverse QFT on the first n qubits in circuit\"\"\"\n",
    "    # First we create a QFT circuit of the correct size:\n",
    "    qft_circ = qft(QuantumCircuit(n), n)\n",
    "    # Then we take the inverse of this circuit\n",
    "    invqft_circ = qft_circ.inverse()\n",
    "    # And add it to the first n qubits in our existing circuit\n",
    "    circuit.append(invqft_circ, circuit.qubits[:n])\n",
    "    return circuit.decompose() # .decompose() allows us to see the individual gates"
   ]
  },
  {
   "cell_type": "code",
   "execution_count": 25,
   "id": "63ba5249",
   "metadata": {},
   "outputs": [
    {
     "data": {
      "text/latex": [
       "$$\\frac{\\sqrt{2}}{4} |000\\rangle- \\frac{\\sqrt{2}}{4} |001\\rangle+\\frac{\\sqrt{2}}{4} |010\\rangle- \\frac{\\sqrt{2}}{4} |011\\rangle+\\frac{\\sqrt{2}}{4} |100\\rangle- \\frac{\\sqrt{2}}{4} |101\\rangle+\\frac{\\sqrt{2}}{4} |110\\rangle- \\frac{\\sqrt{2}}{4} |111\\rangle$$"
      ],
      "text/plain": [
       "<IPython.core.display.Latex object>"
      ]
     },
     "execution_count": 25,
     "metadata": {},
     "output_type": "execute_result"
    }
   ],
   "source": [
    "#Para \\100> \n",
    "qc8= QuantumCircuit(3,3)\n",
    "qc8.x(2)\n",
    "qft(qc8,3)\n",
    "state_vector = Statevector.from_int(0, 2**3)\n",
    "state_vector = state_vector.evolve(qc8)\n",
    "state_vector.draw('latex')"
   ]
  },
  {
   "cell_type": "code",
   "execution_count": 26,
   "id": "3a2ed819",
   "metadata": {},
   "outputs": [
    {
     "data": {
      "text/latex": [
       "$$ |100\\rangle$$"
      ],
      "text/plain": [
       "<IPython.core.display.Latex object>"
      ]
     },
     "execution_count": 26,
     "metadata": {},
     "output_type": "execute_result"
    }
   ],
   "source": [
    "#Calculamos la inversa\n",
    "inverse_qft(qc8, 3)\n",
    "state_vector2 = Statevector.from_int(0, 2**3)\n",
    "state_vector2 = state_vector2.evolve(qc8)\n",
    "state_vector2.draw('latex')"
   ]
  },
  {
   "cell_type": "code",
   "execution_count": 27,
   "id": "32b031b1",
   "metadata": {},
   "outputs": [
    {
     "data": {
      "text/latex": [
       "$$\\frac{\\sqrt{2}}{4} |000\\rangle- \\frac{\\sqrt{2}}{4} |001\\rangle+\\frac{\\sqrt{2}}{4} |010\\rangle- \\frac{\\sqrt{2}}{4} |011\\rangle+\\frac{\\sqrt{2}}{4} |100\\rangle- \\frac{\\sqrt{2}}{4} |101\\rangle+\\frac{\\sqrt{2}}{4} |110\\rangle- \\frac{\\sqrt{2}}{4} |111\\rangle$$"
      ],
      "text/plain": [
       "<IPython.core.display.Latex object>"
      ]
     },
     "execution_count": 27,
     "metadata": {},
     "output_type": "execute_result"
    }
   ],
   "source": [
    "#Para \\011> \n",
    "qc9= QuantumCircuit(3,3)\n",
    "qc9.x(0)\n",
    "qc9.x(1)\n",
    "qft(qc9,3)\n",
    "state_vector3 = Statevector.from_int(0, 2**3)\n",
    "state_vector3 = state_vector3.evolve(qc9)\n",
    "state_vector.draw('latex')"
   ]
  },
  {
   "cell_type": "code",
   "execution_count": 28,
   "id": "be410d17",
   "metadata": {},
   "outputs": [
    {
     "data": {
      "text/latex": [
       "$$ |011\\rangle$$"
      ],
      "text/plain": [
       "<IPython.core.display.Latex object>"
      ]
     },
     "execution_count": 28,
     "metadata": {},
     "output_type": "execute_result"
    }
   ],
   "source": [
    "#Calculamos la inversa\n",
    "inverse_qft(qc9, 3)\n",
    "state_vector4 = Statevector.from_int(0, 2**3)\n",
    "state_vector4 = state_vector4.evolve(qc9)\n",
    "state_vector4.draw('latex')"
   ]
  },
  {
   "cell_type": "markdown",
   "id": "be02f770",
   "metadata": {},
   "source": [
    "Extra .- Notemos que la recursividad viene dado en la función de rotación. Entonces podemos escribirla fácilmente como:"
   ]
  },
  {
   "cell_type": "code",
   "execution_count": 29,
   "id": "3d671a89",
   "metadata": {},
   "outputs": [],
   "source": [
    "def qft_rotations2(circuit, n):\n",
    "    for i in range(n-1,0,-1):\n",
    "        circuit.h(i)\n",
    "        for j in range(i):\n",
    "            circuit.cp(pi/2**(i-j), j, i)\n",
    "    circuit.h(0)\n",
    "    return circuit"
   ]
  },
  {
   "cell_type": "markdown",
   "id": "54dcd1d1",
   "metadata": {},
   "source": [
    "Así, podemos implementar la función en el nuevo qft:"
   ]
  },
  {
   "cell_type": "code",
   "execution_count": 30,
   "id": "c8fb686b",
   "metadata": {},
   "outputs": [],
   "source": [
    "def qft2(circuit, n):\n",
    "    \"\"\"QFT on the first n qubits in circuit\"\"\"\n",
    "    qft_rotations2(circuit, n)\n",
    "    swap_registers(circuit, n)\n",
    "    return circuit"
   ]
  },
  {
   "cell_type": "markdown",
   "id": "fdb97ea9",
   "metadata": {},
   "source": [
    "Comparemos las matrices unitarias:"
   ]
  },
  {
   "cell_type": "code",
   "execution_count": 34,
   "id": "a0541052",
   "metadata": {},
   "outputs": [
    {
     "name": "stdout",
     "output_type": "stream",
     "text": [
      "Operator([[ 0.354+0.j   ,  0.354-0.j   ,  0.354-0.j   ,  0.354-0.j   ,\n",
      "            0.354-0.j   ,  0.354-0.j   ,  0.354-0.j   ,  0.354-0.j   ],\n",
      "          [ 0.354+0.j   ,  0.25 +0.25j ,  0.   +0.354j, -0.25 +0.25j ,\n",
      "           -0.354+0.j   , -0.25 -0.25j , -0.   -0.354j,  0.25 -0.25j ],\n",
      "          [ 0.354+0.j   ,  0.   +0.354j, -0.354+0.j   , -0.   -0.354j,\n",
      "            0.354-0.j   ,  0.   +0.354j, -0.354+0.j   , -0.   -0.354j],\n",
      "          [ 0.354+0.j   , -0.25 +0.25j , -0.   -0.354j,  0.25 +0.25j ,\n",
      "           -0.354+0.j   ,  0.25 -0.25j ,  0.   +0.354j, -0.25 -0.25j ],\n",
      "          [ 0.354+0.j   , -0.354+0.j   ,  0.354-0.j   , -0.354+0.j   ,\n",
      "            0.354-0.j   , -0.354+0.j   ,  0.354-0.j   , -0.354+0.j   ],\n",
      "          [ 0.354+0.j   , -0.25 -0.25j ,  0.   +0.354j,  0.25 -0.25j ,\n",
      "           -0.354+0.j   ,  0.25 +0.25j , -0.   -0.354j, -0.25 +0.25j ],\n",
      "          [ 0.354+0.j   , -0.   -0.354j, -0.354+0.j   ,  0.   +0.354j,\n",
      "            0.354-0.j   , -0.   -0.354j, -0.354+0.j   ,  0.   +0.354j],\n",
      "          [ 0.354+0.j   ,  0.25 -0.25j , -0.   -0.354j, -0.25 -0.25j ,\n",
      "           -0.354+0.j   , -0.25 +0.25j ,  0.   +0.354j,  0.25 +0.25j ]],\n",
      "         input_dims=(2, 2, 2), output_dims=(2, 2, 2))\n"
     ]
    }
   ],
   "source": [
    "#Para QFT1:\n",
    "qc10= QuantumCircuit(3)\n",
    "qft(qc10,3)\n",
    "backend = Aer.get_backend('unitary_simulator')\n",
    "job = execute(qc10, backend, shots=1)\n",
    "result1 = job.result()\n",
    "print(result1.get_unitary(qc10,3))"
   ]
  },
  {
   "cell_type": "code",
   "execution_count": 35,
   "id": "a9ed8096",
   "metadata": {},
   "outputs": [
    {
     "name": "stdout",
     "output_type": "stream",
     "text": [
      "Operator([[ 0.354+0.j   ,  0.354-0.j   ,  0.354-0.j   ,  0.354-0.j   ,\n",
      "            0.354-0.j   ,  0.354-0.j   ,  0.354-0.j   ,  0.354-0.j   ],\n",
      "          [ 0.354+0.j   ,  0.25 +0.25j ,  0.   +0.354j, -0.25 +0.25j ,\n",
      "           -0.354+0.j   , -0.25 -0.25j , -0.   -0.354j,  0.25 -0.25j ],\n",
      "          [ 0.354+0.j   ,  0.   +0.354j, -0.354+0.j   , -0.   -0.354j,\n",
      "            0.354-0.j   ,  0.   +0.354j, -0.354+0.j   , -0.   -0.354j],\n",
      "          [ 0.354+0.j   , -0.25 +0.25j , -0.   -0.354j,  0.25 +0.25j ,\n",
      "           -0.354+0.j   ,  0.25 -0.25j ,  0.   +0.354j, -0.25 -0.25j ],\n",
      "          [ 0.354+0.j   , -0.354+0.j   ,  0.354-0.j   , -0.354+0.j   ,\n",
      "            0.354-0.j   , -0.354+0.j   ,  0.354-0.j   , -0.354+0.j   ],\n",
      "          [ 0.354+0.j   , -0.25 -0.25j ,  0.   +0.354j,  0.25 -0.25j ,\n",
      "           -0.354+0.j   ,  0.25 +0.25j , -0.   -0.354j, -0.25 +0.25j ],\n",
      "          [ 0.354+0.j   , -0.   -0.354j, -0.354+0.j   ,  0.   +0.354j,\n",
      "            0.354-0.j   , -0.   -0.354j, -0.354+0.j   ,  0.   +0.354j],\n",
      "          [ 0.354+0.j   ,  0.25 -0.25j , -0.   -0.354j, -0.25 -0.25j ,\n",
      "           -0.354+0.j   , -0.25 +0.25j ,  0.   +0.354j,  0.25 +0.25j ]],\n",
      "         input_dims=(2, 2, 2), output_dims=(2, 2, 2))\n"
     ]
    }
   ],
   "source": [
    "#Para QFT2:\n",
    "qc11= QuantumCircuit(3)\n",
    "qft2(qc11,3)\n",
    "backend = Aer.get_backend('unitary_simulator')\n",
    "job = execute(qc11, backend, shots=1)\n",
    "result2 = job.result()\n",
    "print(result2.get_unitary(qc11,3))"
   ]
  },
  {
   "cell_type": "code",
   "execution_count": 36,
   "id": "31b9e93d",
   "metadata": {},
   "outputs": [
    {
     "name": "stdout",
     "output_type": "stream",
     "text": [
      "True\n"
     ]
    }
   ],
   "source": [
    "#Comparamos\n",
    "print(result2.get_unitary(qc11,3)==result1.get_unitary(qc10,3))"
   ]
  },
  {
   "cell_type": "markdown",
   "id": "1a7fdbd1-97e6-419b-95d4-18abd28facfb",
   "metadata": {},
   "source": [
    "## 5. Recursos útiles\n",
    "\n",
    "* Los notebooks y sus referencias.\n",
    "\n",
    "## Donaciones\n",
    "<br>\n",
    "<center>\n",
    "Puedes donar una vez en el siguiente enlace (Ko-Fi):\n",
    "\n",
    "<br>\n",
    "    \n",
    "*Click en la imagen.*\n",
    "\n",
    "<a href=\"https://ko-fi.com/rcrdphysics\">\n",
    "<img src=\"https://habrastorage.org/webt/8r/ml/xf/8rmlxfpdzukegpxa62cxlfvgkqe.png\" width=20% />\n",
    "\n",
    "</center>"
   ]
  },
  {
   "cell_type": "code",
   "execution_count": null,
   "id": "b44c66ff-164f-499b-a270-87639b7ee846",
   "metadata": {},
   "outputs": [],
   "source": []
  }
 ],
 "metadata": {
  "kernelspec": {
   "display_name": "Python 3 (ipykernel)",
   "language": "python",
   "name": "python3"
  },
  "language_info": {
   "codemirror_mode": {
    "name": "ipython",
    "version": 3
   },
   "file_extension": ".py",
   "mimetype": "text/x-python",
   "name": "python",
   "nbconvert_exporter": "python",
   "pygments_lexer": "ipython3",
   "version": "3.11.3"
  },
  "widgets": {
   "application/vnd.jupyter.widget-state+json": {
    "state": {},
    "version_major": 2,
    "version_minor": 0
   }
  }
 },
 "nbformat": 4,
 "nbformat_minor": 5
}
